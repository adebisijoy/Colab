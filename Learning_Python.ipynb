{
  "nbformat": 4,
  "nbformat_minor": 0,
  "metadata": {
    "colab": {
      "provenance": [],
      "mount_file_id": "1NP_xwNGm87ii6aH_oe2akHco2qO2vjee",
      "authorship_tag": "ABX9TyMSDG5d5S9gkIxtGuE1/gKd",
      "include_colab_link": true
    },
    "kernelspec": {
      "name": "python3",
      "display_name": "Python 3"
    },
    "language_info": {
      "name": "python"
    }
  },
  "cells": [
    {
      "cell_type": "markdown",
      "metadata": {
        "id": "view-in-github",
        "colab_type": "text"
      },
      "source": [
        "<a href=\"https://colab.research.google.com/github/adebisijoy/Colab/blob/main/Learning_Python.ipynb\" target=\"_parent\"><img src=\"https://colab.research.google.com/assets/colab-badge.svg\" alt=\"Open In Colab\"/></a>"
      ]
    },
    {
      "cell_type": "code",
      "source": [
        "print('Hello world.!')"
      ],
      "metadata": {
        "colab": {
          "base_uri": "https://localhost:8080/"
        },
        "id": "5rW-4PCl6V8z",
        "outputId": "68263621-f41a-4edd-e9c7-678f330f9af1"
      },
      "execution_count": null,
      "outputs": [
        {
          "output_type": "stream",
          "name": "stdout",
          "text": [
            "Hello world.!\n"
          ]
        }
      ]
    },
    {
      "cell_type": "code",
      "source": [
        "print('Hello World')"
      ],
      "metadata": {
        "colab": {
          "base_uri": "https://localhost:8080/"
        },
        "id": "ORFl-lveB4iC",
        "outputId": "96633334-175c-4543-c565-a2c894d1f9d8"
      },
      "execution_count": 3,
      "outputs": [
        {
          "output_type": "stream",
          "name": "stdout",
          "text": [
            "Hello World\n"
          ]
        }
      ]
    },
    {
      "cell_type": "code",
      "source": [
        "print('I love Azubi Africa')"
      ],
      "metadata": {
        "colab": {
          "base_uri": "https://localhost:8080/"
        },
        "id": "_Li8fWfPC5wU",
        "outputId": "f7ac7aeb-0f20-4cdc-a55e-45606d6b8abd"
      },
      "execution_count": 6,
      "outputs": [
        {
          "output_type": "stream",
          "name": "stdout",
          "text": [
            "I love Azubi Africa\n"
          ]
        }
      ]
    },
    {
      "cell_type": "code",
      "source": [
        "fav = 'I love Azubi Africa'"
      ],
      "metadata": {
        "id": "4a3F8xZpC_4-"
      },
      "execution_count": 8,
      "outputs": []
    },
    {
      "cell_type": "code",
      "source": [
        "print(fav)"
      ],
      "metadata": {
        "colab": {
          "base_uri": "https://localhost:8080/"
        },
        "id": "-OWOR5U3Dfhf",
        "outputId": "ca2771d5-d99e-46a8-84b3-4e2182749141"
      },
      "execution_count": 9,
      "outputs": [
        {
          "output_type": "stream",
          "name": "stdout",
          "text": [
            "I love Azubi Africa\n"
          ]
        }
      ]
    },
    {
      "cell_type": "code",
      "source": [
        "favt = 'I love JESUS'\n",
        "\n",
        "print(favt)"
      ],
      "metadata": {
        "colab": {
          "base_uri": "https://localhost:8080/"
        },
        "id": "u5U4Q7rRDzQl",
        "outputId": "e6fb1a29-6328-414b-e7f4-10d9c7993510"
      },
      "execution_count": 11,
      "outputs": [
        {
          "output_type": "stream",
          "name": "stdout",
          "text": [
            "I love JESUS\n"
          ]
        }
      ]
    },
    {
      "cell_type": "markdown",
      "source": [
        "## String Concatenation\n",
        "\n"
      ],
      "metadata": {
        "id": "6GgKI7-yHDsr"
      }
    },
    {
      "cell_type": "code",
      "source": [
        "first_name = 'Azubi'\n",
        "\n",
        "last_name = 'Africa'\n",
        "\n",
        "print('My name is ' + first_name + \" \" + last_name)"
      ],
      "metadata": {
        "colab": {
          "base_uri": "https://localhost:8080/"
        },
        "id": "jwlTeHHwHSCu",
        "outputId": "b1b49c64-12ec-405b-af95-126e7c3093f1"
      },
      "execution_count": 27,
      "outputs": [
        {
          "output_type": "stream",
          "name": "stdout",
          "text": [
            "My name is Azubi Africa\n"
          ]
        }
      ]
    },
    {
      "cell_type": "markdown",
      "source": [
        "f-Strings\n",
        "formatting strings"
      ],
      "metadata": {
        "id": "4pwJK7lPHnts"
      }
    },
    {
      "cell_type": "code",
      "source": [
        "first_name = 'Azubi'\n",
        "\n",
        "last_name = 'Africa'\n",
        "\n",
        "print(f'My name is {first_name} {last_name}')"
      ],
      "metadata": {
        "colab": {
          "base_uri": "https://localhost:8080/"
        },
        "id": "uRDAhfrNHvpV",
        "outputId": "c5750403-ca71-4e3c-a154-6fd6977d654f"
      },
      "execution_count": 28,
      "outputs": [
        {
          "output_type": "stream",
          "name": "stdout",
          "text": [
            "My name is Azubi Africa\n"
          ]
        }
      ]
    },
    {
      "cell_type": "markdown",
      "source": [
        "## Numbers"
      ],
      "metadata": {
        "id": "WorD_ULoIudt"
      }
    },
    {
      "cell_type": "code",
      "source": [
        "2 + 2"
      ],
      "metadata": {
        "colab": {
          "base_uri": "https://localhost:8080/"
        },
        "id": "0Spphid5IxLf",
        "outputId": "f7bf4f9d-b960-4778-ef27-6520c9ecfd36"
      },
      "execution_count": 29,
      "outputs": [
        {
          "output_type": "execute_result",
          "data": {
            "text/plain": [
              "4"
            ]
          },
          "metadata": {},
          "execution_count": 29
        }
      ]
    },
    {
      "cell_type": "code",
      "source": [
        "name = 'Azubi Africa'\n",
        "\n",
        "age = 5\n",
        "\n",
        "print(f'Hello World! My name is {name}. I am {age} years old' )"
      ],
      "metadata": {
        "colab": {
          "base_uri": "https://localhost:8080/"
        },
        "id": "zRJg0c_AI4qQ",
        "outputId": "303d0241-6945-40ca-9e9a-e328579d5d85"
      },
      "execution_count": 33,
      "outputs": [
        {
          "output_type": "stream",
          "name": "stdout",
          "text": [
            "Hello World! My name is Azubi Africa. I am 5 years old\n"
          ]
        }
      ]
    },
    {
      "cell_type": "markdown",
      "source": [
        "## Final Project"
      ],
      "metadata": {
        "id": "8xvB6SCzJ_7z"
      }
    },
    {
      "cell_type": "code",
      "source": [
        "name = input('Hey you, pls enter your name: ')\n",
        "\n",
        "age = input('Hey you, pls enter your age: ')\n",
        "\n",
        "print(f'Hey {name}, your age is {age}')"
      ],
      "metadata": {
        "colab": {
          "base_uri": "https://localhost:8080/"
        },
        "id": "yPPH0VC4KIcO",
        "outputId": "65b62503-93ed-4cc0-d470-6b4936bf3045"
      },
      "execution_count": 38,
      "outputs": [
        {
          "output_type": "stream",
          "name": "stdout",
          "text": [
            "Hey you, pls enter your name: ire\n",
            "Hey you, pls enter your age: 18\n",
            "Hey ire, your age is 18\n"
          ]
        }
      ]
    },
    {
      "cell_type": "code",
      "source": [
        "name = input('Hey you, pls enter your name: ')\n",
        "\n",
        "age = input('Hey you, pls enter your age: ')\n",
        "\n",
        "print(f'Hey {name}, your age is {age}')"
      ],
      "metadata": {
        "colab": {
          "base_uri": "https://localhost:8080/"
        },
        "id": "6Yp0grrnKtPL",
        "outputId": "402a673c-b1b9-4e3c-ee1b-7f7cc46f8385"
      },
      "execution_count": 40,
      "outputs": [
        {
          "output_type": "stream",
          "name": "stdout",
          "text": [
            "Hey you, pls enter your name: pearl\n",
            "Hey you, pls enter your age: 15\n",
            "Hey pearl, your age is 15\n"
          ]
        }
      ]
    }
  ]
}