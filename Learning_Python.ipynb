{
  "cells": [
    {
      "cell_type": "markdown",
      "metadata": {
        "id": "view-in-github",
        "colab_type": "text"
      },
      "source": [
        "<a href=\"https://colab.research.google.com/github/adebisijoy/Colab/blob/main/Learning_Python.ipynb\" target=\"_parent\"><img src=\"https://colab.research.google.com/assets/colab-badge.svg\" alt=\"Open In Colab\"/></a>"
      ]
    },
    {
      "cell_type": "code",
      "execution_count": null,
      "metadata": {
        "colab": {
          "base_uri": "https://localhost:8080/"
        },
        "id": "5rW-4PCl6V8z",
        "outputId": "68263621-f41a-4edd-e9c7-678f330f9af1"
      },
      "outputs": [
        {
          "name": "stdout",
          "output_type": "stream",
          "text": [
            "Hello world.!\n"
          ]
        }
      ],
      "source": [
        "print('Hello world.!')"
      ]
    },
    {
      "cell_type": "code",
      "execution_count": null,
      "metadata": {
        "id": "6mMHgYHoycYT"
      },
      "outputs": [],
      "source": []
    },
    {
      "cell_type": "code",
      "execution_count": null,
      "metadata": {
        "colab": {
          "base_uri": "https://localhost:8080/"
        },
        "id": "ORFl-lveB4iC",
        "outputId": "96633334-175c-4543-c565-a2c894d1f9d8"
      },
      "outputs": [
        {
          "name": "stdout",
          "output_type": "stream",
          "text": [
            "Hello World\n"
          ]
        }
      ],
      "source": [
        "print('Hello World')"
      ]
    },
    {
      "cell_type": "code",
      "execution_count": null,
      "metadata": {
        "colab": {
          "base_uri": "https://localhost:8080/"
        },
        "id": "_Li8fWfPC5wU",
        "outputId": "f7ac7aeb-0f20-4cdc-a55e-45606d6b8abd"
      },
      "outputs": [
        {
          "name": "stdout",
          "output_type": "stream",
          "text": [
            "I love Azubi Africa\n"
          ]
        }
      ],
      "source": [
        "print('I love Azubi Africa')"
      ]
    },
    {
      "cell_type": "code",
      "execution_count": null,
      "metadata": {
        "id": "4a3F8xZpC_4-"
      },
      "outputs": [],
      "source": [
        "fav = 'I love Azubi Africa'"
      ]
    },
    {
      "cell_type": "code",
      "execution_count": null,
      "metadata": {
        "colab": {
          "base_uri": "https://localhost:8080/"
        },
        "id": "-OWOR5U3Dfhf",
        "outputId": "ca2771d5-d99e-46a8-84b3-4e2182749141"
      },
      "outputs": [
        {
          "name": "stdout",
          "output_type": "stream",
          "text": [
            "I love Azubi Africa\n"
          ]
        }
      ],
      "source": [
        "print(fav)"
      ]
    },
    {
      "cell_type": "code",
      "execution_count": null,
      "metadata": {
        "colab": {
          "base_uri": "https://localhost:8080/"
        },
        "id": "u5U4Q7rRDzQl",
        "outputId": "e6fb1a29-6328-414b-e7f4-10d9c7993510"
      },
      "outputs": [
        {
          "name": "stdout",
          "output_type": "stream",
          "text": [
            "I love JESUS\n"
          ]
        }
      ],
      "source": [
        "favt = 'I love JESUS'\n",
        "\n",
        "print(favt)"
      ]
    },
    {
      "cell_type": "markdown",
      "metadata": {
        "id": "6GgKI7-yHDsr"
      },
      "source": [
        "## String Concatenation\n",
        "\n"
      ]
    },
    {
      "cell_type": "code",
      "execution_count": null,
      "metadata": {
        "colab": {
          "base_uri": "https://localhost:8080/"
        },
        "id": "jwlTeHHwHSCu",
        "outputId": "b1b49c64-12ec-405b-af95-126e7c3093f1"
      },
      "outputs": [
        {
          "name": "stdout",
          "output_type": "stream",
          "text": [
            "My name is Azubi Africa\n"
          ]
        }
      ],
      "source": [
        "first_name = 'Azubi'\n",
        "\n",
        "last_name = 'Africa'\n",
        "\n",
        "print('My name is ' + first_name + \" \" + last_name)"
      ]
    },
    {
      "cell_type": "markdown",
      "metadata": {
        "id": "4pwJK7lPHnts"
      },
      "source": [
        "f-Strings\n",
        "formatting strings"
      ]
    },
    {
      "cell_type": "code",
      "execution_count": null,
      "metadata": {
        "colab": {
          "base_uri": "https://localhost:8080/"
        },
        "id": "uRDAhfrNHvpV",
        "outputId": "c5750403-ca71-4e3c-a154-6fd6977d654f"
      },
      "outputs": [
        {
          "name": "stdout",
          "output_type": "stream",
          "text": [
            "My name is Azubi Africa\n"
          ]
        }
      ],
      "source": [
        "first_name = 'Azubi'\n",
        "\n",
        "last_name = 'Africa'\n",
        "\n",
        "print(f'My name is {first_name} {last_name}')"
      ]
    },
    {
      "cell_type": "markdown",
      "metadata": {
        "id": "WorD_ULoIudt"
      },
      "source": [
        "## Numbers"
      ]
    },
    {
      "cell_type": "code",
      "execution_count": null,
      "metadata": {
        "colab": {
          "base_uri": "https://localhost:8080/"
        },
        "id": "0Spphid5IxLf",
        "outputId": "f7bf4f9d-b960-4778-ef27-6520c9ecfd36"
      },
      "outputs": [
        {
          "data": {
            "text/plain": [
              "4"
            ]
          },
          "execution_count": 29,
          "metadata": {},
          "output_type": "execute_result"
        }
      ],
      "source": [
        "2 + 2"
      ]
    },
    {
      "cell_type": "code",
      "execution_count": null,
      "metadata": {
        "colab": {
          "base_uri": "https://localhost:8080/"
        },
        "id": "zRJg0c_AI4qQ",
        "outputId": "303d0241-6945-40ca-9e9a-e328579d5d85"
      },
      "outputs": [
        {
          "name": "stdout",
          "output_type": "stream",
          "text": [
            "Hello World! My name is Azubi Africa. I am 5 years old\n"
          ]
        }
      ],
      "source": [
        "name = 'Azubi Africa'\n",
        "\n",
        "age = 5\n",
        "\n",
        "print(f'Hello World! My name is {name}. I am {age} years old' )"
      ]
    },
    {
      "cell_type": "markdown",
      "metadata": {
        "id": "8xvB6SCzJ_7z"
      },
      "source": [
        "## Final Project"
      ]
    },
    {
      "cell_type": "code",
      "execution_count": null,
      "metadata": {
        "colab": {
          "base_uri": "https://localhost:8080/"
        },
        "id": "yPPH0VC4KIcO",
        "outputId": "65b62503-93ed-4cc0-d470-6b4936bf3045"
      },
      "outputs": [
        {
          "name": "stdout",
          "output_type": "stream",
          "text": [
            "Hey you, pls enter your name: ire\n",
            "Hey you, pls enter your age: 18\n",
            "Hey ire, your age is 18\n"
          ]
        }
      ],
      "source": [
        "name = input('Hey you, pls enter your name: ')\n",
        "\n",
        "age = input('Hey you, pls enter your age: ')\n",
        "\n",
        "print(f'Hey {name}, your age is {age}')"
      ]
    },
    {
      "cell_type": "code",
      "execution_count": null,
      "metadata": {
        "colab": {
          "base_uri": "https://localhost:8080/"
        },
        "id": "6Yp0grrnKtPL",
        "outputId": "402a673c-b1b9-4e3c-ee1b-7f7cc46f8385"
      },
      "outputs": [
        {
          "name": "stdout",
          "output_type": "stream",
          "text": [
            "Hey you, pls enter your name: pearl\n",
            "Hey you, pls enter your age: 15\n",
            "Hey pearl, your age is 15\n"
          ]
        }
      ],
      "source": [
        "name = input('Hey you, pls enter your name: ')\n",
        "\n",
        "age = input('Hey you, pls enter your age: ')\n",
        "\n",
        "print(f'Hey {name}, your age is {age}')"
      ]
    },
    {
      "cell_type": "code",
      "execution_count": null,
      "metadata": {
        "colab": {
          "base_uri": "https://localhost:8080/"
        },
        "id": "ajt9kKi-OnIZ",
        "outputId": "60bb0a7e-3fc8-4ccb-822a-efd641909e3f"
      },
      "outputs": [
        {
          "name": "stdout",
          "output_type": "stream",
          "text": [
            "Hello World\n"
          ]
        }
      ],
      "source": [
        "print('Hello World')"
      ]
    },
    {
      "cell_type": "code",
      "execution_count": null,
      "metadata": {
        "colab": {
          "base_uri": "https://localhost:8080/"
        },
        "id": "49eE-bsSOsIU",
        "outputId": "ab1f2e4e-340a-4158-8aba-0e52eb1184d3"
      },
      "outputs": [
        {
          "name": "stdout",
          "output_type": "stream",
          "text": [
            "Hello James John\n"
          ]
        }
      ],
      "source": [
        "full_name = 'James John'\n",
        "\n",
        "print('Hello', full_name)"
      ]
    },
    {
      "cell_type": "code",
      "execution_count": null,
      "metadata": {
        "colab": {
          "base_uri": "https://localhost:8080/"
        },
        "id": "gV_rypZHPFTg",
        "outputId": "9f789d3a-3a51-479e-e90d-29ff6a68736b"
      },
      "outputs": [
        {
          "name": "stdout",
          "output_type": "stream",
          "text": [
            "Hello John Peter\n"
          ]
        }
      ],
      "source": [
        "full_name = 'John Peter'\n",
        "\n",
        "print(f\"Hello {full_name}\")"
      ]
    },
    {
      "cell_type": "code",
      "execution_count": null,
      "metadata": {
        "colab": {
          "base_uri": "https://localhost:8080/"
        },
        "id": "Fs05cbAcPtvA",
        "outputId": "bf5011df-da07-4b43-cf70-0b4ebba194bb"
      },
      "outputs": [
        {
          "name": "stdout",
          "output_type": "stream",
          "text": [
            "Hello Mary Bless\n"
          ]
        }
      ],
      "source": [
        "full_name = 'Mary Bless'\n",
        "\n",
        "print(\"Hello {}\".format(full_name))"
      ]
    },
    {
      "cell_type": "code",
      "execution_count": null,
      "metadata": {
        "colab": {
          "base_uri": "https://localhost:8080/"
        },
        "id": "zaHTt0f8yGgf",
        "outputId": "a3707e09-4ee3-42bd-c984-8a16fd416576"
      },
      "outputs": [
        {
          "name": "stdout",
          "output_type": "stream",
          "text": [
            "Right Good\n"
          ]
        }
      ],
      "source": [
        "first_name = 'Right Good'\n",
        "\n",
        "print(first_name)"
      ]
    },
    {
      "cell_type": "code",
      "execution_count": null,
      "metadata": {
        "colab": {
          "base_uri": "https://localhost:8080/"
        },
        "id": "NNQsBkwgot3f",
        "outputId": "02d2c9df-d45d-4abb-9b7c-44d72ff32675"
      },
      "outputs": [
        {
          "name": "stdout",
          "output_type": "stream",
          "text": [
            "Hello World!\n"
          ]
        }
      ],
      "source": [
        "print('Hello World!')"
      ]
    },
    {
      "cell_type": "code",
      "execution_count": null,
      "metadata": {
        "colab": {
          "base_uri": "https://localhost:8080/"
        },
        "id": "7WL4TlIXpJ-O",
        "outputId": "95b337ea-6f97-46fd-dfc5-e3c9f1574306"
      },
      "outputs": [
        {
          "name": "stdout",
          "output_type": "stream",
          "text": [
            "Hello John Matthew\n"
          ]
        }
      ],
      "source": [
        "full_name = 'John Matthew'\n",
        "\n",
        "print('Hello {}'.format(full_name))"
      ]
    },
    {
      "cell_type": "code",
      "execution_count": null,
      "metadata": {
        "colab": {
          "base_uri": "https://localhost:8080/"
        },
        "id": "7FkMcO4xwbnu",
        "outputId": "a5116288-34ae-49d3-ba6a-d3d42701b780"
      },
      "outputs": [
        {
          "name": "stdout",
          "output_type": "stream",
          "text": [
            "Hello Emmanuel George\n"
          ]
        }
      ],
      "source": [
        "full_name = 'Emmanuel George'\n",
        "\n",
        "print('Hello', full_name)"
      ]
    },
    {
      "cell_type": "code",
      "execution_count": null,
      "metadata": {
        "colab": {
          "base_uri": "https://localhost:8080/"
        },
        "id": "Tu8ABKl00GWi",
        "outputId": "09a6359f-301a-49ac-a66c-15d39d07aff2"
      },
      "outputs": [
        {
          "name": "stdout",
          "output_type": "stream",
          "text": [
            "Hello Jude briggs\n"
          ]
        }
      ],
      "source": [
        "full_name = 'Jude briggs'\n",
        "\n",
        "print('Hello {}'.format(full_name))"
      ]
    },
    {
      "cell_type": "code",
      "execution_count": null,
      "metadata": {
        "colab": {
          "base_uri": "https://localhost:8080/"
        },
        "id": "q-nA6g8Q0j_R",
        "outputId": "d005888a-bf51-4455-a300-ec8332c34d0e"
      },
      "outputs": [
        {
          "name": "stdout",
          "output_type": "stream",
          "text": [
            "Hello Jude briggs\n"
          ]
        }
      ],
      "source": [
        "full_name = 'Jude briggs'\n",
        "\n",
        "print(f'Hello {full_name}') #called a formatting text"
      ]
    },
    {
      "cell_type": "code",
      "execution_count": null,
      "metadata": {
        "colab": {
          "base_uri": "https://localhost:8080/"
        },
        "id": "iouUUhOJ0xbB",
        "outputId": "f1bca757-a5dd-4ecc-8cba-6880f1ce611a"
      },
      "outputs": [
        {
          "name": "stdout",
          "output_type": "stream",
          "text": [
            "Hello Jude briggs ...!\n"
          ]
        }
      ],
      "source": [
        "full_name = 'Jude briggs'\n",
        "\n",
        "print('Hello', full_name, '...!')"
      ]
    },
    {
      "cell_type": "code",
      "execution_count": null,
      "metadata": {
        "colab": {
          "base_uri": "https://localhost:8080/"
        },
        "id": "IqeutJxj1yuB",
        "outputId": "97fad05f-51d7-466a-d63f-3d78c9133b77"
      },
      "outputs": [
        {
          "name": "stdout",
          "output_type": "stream",
          "text": [
            "Help on built-in function print in module builtins:\n",
            "\n",
            "print(...)\n",
            "    print(value, ..., sep=' ', end='\\n', file=sys.stdout, flush=False)\n",
            "    \n",
            "    Prints the values to a stream, or to sys.stdout by default.\n",
            "    Optional keyword arguments:\n",
            "    file:  a file-like object (stream); defaults to the current sys.stdout.\n",
            "    sep:   string inserted between values, default a space.\n",
            "    end:   string appended after the last value, default a newline.\n",
            "    flush: whether to forcibly flush the stream.\n",
            "\n"
          ]
        }
      ],
      "source": [
        "help(print)"
      ]
    },
    {
      "cell_type": "code",
      "execution_count": null,
      "metadata": {
        "colab": {
          "base_uri": "https://localhost:8080/"
        },
        "id": "41jZcdIm2Wd0",
        "outputId": "260bac0a-3b67-4e43-affa-6f8da3238c9b"
      },
      "outputs": [
        {
          "name": "stdout",
          "output_type": "stream",
          "text": [
            "I'm from Nigeria, and I live in  Lagos .\n"
          ]
        }
      ],
      "source": [
        "origin, actual_country = 'Nigeria', ' Lagos '\n",
        "print(\"I'm from {}, and I live in {}.\".format(origin, actual_country))"
      ]
    },
    {
      "cell_type": "code",
      "execution_count": null,
      "metadata": {
        "colab": {
          "base_uri": "https://localhost:8080/"
        },
        "id": "hiTl_aOv3iAO",
        "outputId": "bd511eb8-ae8b-4201-c8cd-e08f544f03c6"
      },
      "outputs": [
        {
          "name": "stdout",
          "output_type": "stream",
          "text": [
            "Hello May white.\n"
          ]
        }
      ],
      "source": [
        "full_name = 'May white'\n",
        "\n",
        "print(\"Hello {}.\".format(full_name))"
      ]
    },
    {
      "cell_type": "code",
      "execution_count": null,
      "metadata": {
        "colab": {
          "base_uri": "https://localhost:8080/"
        },
        "id": "QI5-J-mj3xSZ",
        "outputId": "6a382b23-8370-4973-ac12-de609582a4e5"
      },
      "outputs": [
        {
          "name": "stdout",
          "output_type": "stream",
          "text": [
            "I'm from Nigeria, and I live in Lagos.\n"
          ]
        }
      ],
      "source": [
        "origin, actual_country = 'Nigeria', 'Lagos'\n",
        "\n",
        "print(\"I'm from {}, and I live in {}.\".format(origin, actual_country))"
      ]
    },
    {
      "cell_type": "code",
      "execution_count": null,
      "metadata": {
        "colab": {
          "base_uri": "https://localhost:8080/"
        },
        "id": "XYmXsZp94fqz",
        "outputId": "306878f4-7602-44d1-c4a1-aba217380637"
      },
      "outputs": [
        {
          "name": "stdout",
          "output_type": "stream",
          "text": [
            "Please type your height (in cm) :40\n",
            "Your height is: 40cm\n"
          ]
        }
      ],
      "source": [
        "typed_value = input(\"Please type your height (in cm) :\")\n",
        "\n",
        "print(f\"Your height is: {typed_value}cm\")"
      ]
    },
    {
      "cell_type": "code",
      "execution_count": null,
      "metadata": {
        "colab": {
          "base_uri": "https://localhost:8080/"
        },
        "id": "c3BGC4XK5Bpl",
        "outputId": "ef11f4c0-22ed-4316-8539-9a2c33198aea"
      },
      "outputs": [
        {
          "name": "stdout",
          "output_type": "stream",
          "text": [
            "PLease type in your height (in cm) :50\n",
            "Your height is: 50cm\n"
          ]
        }
      ],
      "source": [
        "typed_value = input(\"PLease type in your height (in cm) :\")\n",
        "\n",
        "print(f\"Your height is: {typed_value}cm\")"
      ]
    },
    {
      "cell_type": "code",
      "execution_count": null,
      "metadata": {
        "colab": {
          "base_uri": "https://localhost:8080/"
        },
        "id": "v2hwi-925UkO",
        "outputId": "f0a372b4-13e6-48f0-e146-df8561ec7983"
      },
      "outputs": [
        {
          "name": "stdout",
          "output_type": "stream",
          "text": [
            "Please type your full_name\n",
            "Goodness Bright\n",
            "Welcome Goodness Bright!\n"
          ]
        }
      ],
      "source": [
        "typed_full_name = input('Please type your full_name\\n')\n",
        "\n",
        "print(f'Welcome {typed_full_name}!')"
      ]
    },
    {
      "cell_type": "code",
      "execution_count": null,
      "metadata": {
        "colab": {
          "base_uri": "https://localhost:8080/"
        },
        "id": "u3RVEfRo7tqq",
        "outputId": "5b0903bd-4733-4e76-c4a0-e1bdf6a2f508"
      },
      "outputs": [
        {
          "name": "stdout",
          "output_type": "stream",
          "text": [
            "Please enter your age\n",
            ">>100\n",
            "The price for your ticket is: 25\n"
          ]
        }
      ],
      "source": [
        "age_str = input(\"Please enter your age\\n>>\") # Get age in str format\n",
        "\n",
        "age = int(age_str) # Convert age to an integer value\n",
        "\n",
        "# Compute Price\n",
        "# If age belongs to [0, 16]\n",
        "if (age>=0) and (age<16):\n",
        "   price = 10 # price = price + 10\n",
        "\n",
        "# If age belongs to [16, 65]\n",
        "elif (age>=16) and (age<65):\n",
        "   price = 15 # price = price + 15\n",
        "\n",
        "# If age is superior or equal to 65\n",
        "elif (age>=65) :\n",
        "   price = 25 # price = price + 25\n",
        "\n",
        "# Else means age is inferior to 0\n",
        "else:\n",
        "    price = 0\n",
        "\n",
        "\n",
        "# PRINT PRICE\n",
        "if price == 0:\n",
        "     print(f\"Sorry. Something went wrong with the value you typed\")\n",
        "else:\n",
        "     print(f\"The price for your ticket is: {price}\")\n"
      ]
    },
    {
      "cell_type": "code",
      "execution_count": null,
      "metadata": {
        "colab": {
          "base_uri": "https://localhost:8080/"
        },
        "id": "IQ3wD5o4PCgn",
        "outputId": "af56127b-d456-466c-bb75-9428f6d1af36"
      },
      "outputs": [
        {
          "name": "stdout",
          "output_type": "stream",
          "text": [
            "Please enter your age\n",
            ">>120\n",
            "The price of your ticket is 25\n"
          ]
        }
      ],
      "source": [
        "age_str = input(\"Please enter your age\\n>>\")\n",
        "\n",
        "age = int(age_str)\n",
        "\n",
        "if (age>=0) and (age<16):\n",
        "   price = 10\n",
        "\n",
        "elif (age>=16) and (age<65):\n",
        "   price = 15\n",
        "\n",
        "elif (age>=65):\n",
        "   price = 25\n",
        "\n",
        "else:\n",
        "   price = 0\n",
        "\n",
        "if price == 0:\n",
        "   print(f\"Sorry. Something went wrong with the value you typed\")\n",
        "else:\n",
        "   print(f\"The price of your ticket is {price}\")"
      ]
    },
    {
      "cell_type": "markdown",
      "metadata": {
        "id": "ZwgBo5yIbuM6"
      },
      "source": [
        "Loop Statments\n"
      ]
    },
    {
      "cell_type": "code",
      "execution_count": null,
      "metadata": {
        "colab": {
          "base_uri": "https://localhost:8080/"
        },
        "id": "5OtKtVjcDm1Q",
        "outputId": "56ae3437-7f47-4edb-f65b-d6d70c375b3b"
      },
      "outputs": [
        {
          "name": "stdout",
          "output_type": "stream",
          "text": [
            "Help on class range in module builtins:\n",
            "\n",
            "class range(object)\n",
            " |  range(stop) -> range object\n",
            " |  range(start, stop[, step]) -> range object\n",
            " |  \n",
            " |  Return an object that produces a sequence of integers from start (inclusive)\n",
            " |  to stop (exclusive) by step.  range(i, j) produces i, i+1, i+2, ..., j-1.\n",
            " |  start defaults to 0, and stop is omitted!  range(4) produces 0, 1, 2, 3.\n",
            " |  These are exactly the valid indices for a list of 4 elements.\n",
            " |  When step is given, it specifies the increment (or decrement).\n",
            " |  \n",
            " |  Methods defined here:\n",
            " |  \n",
            " |  __bool__(self, /)\n",
            " |      True if self else False\n",
            " |  \n",
            " |  __contains__(self, key, /)\n",
            " |      Return key in self.\n",
            " |  \n",
            " |  __eq__(self, value, /)\n",
            " |      Return self==value.\n",
            " |  \n",
            " |  __ge__(self, value, /)\n",
            " |      Return self>=value.\n",
            " |  \n",
            " |  __getattribute__(self, name, /)\n",
            " |      Return getattr(self, name).\n",
            " |  \n",
            " |  __getitem__(self, key, /)\n",
            " |      Return self[key].\n",
            " |  \n",
            " |  __gt__(self, value, /)\n",
            " |      Return self>value.\n",
            " |  \n",
            " |  __hash__(self, /)\n",
            " |      Return hash(self).\n",
            " |  \n",
            " |  __iter__(self, /)\n",
            " |      Implement iter(self).\n",
            " |  \n",
            " |  __le__(self, value, /)\n",
            " |      Return self<=value.\n",
            " |  \n",
            " |  __len__(self, /)\n",
            " |      Return len(self).\n",
            " |  \n",
            " |  __lt__(self, value, /)\n",
            " |      Return self<value.\n",
            " |  \n",
            " |  __ne__(self, value, /)\n",
            " |      Return self!=value.\n",
            " |  \n",
            " |  __reduce__(...)\n",
            " |      Helper for pickle.\n",
            " |  \n",
            " |  __repr__(self, /)\n",
            " |      Return repr(self).\n",
            " |  \n",
            " |  __reversed__(...)\n",
            " |      Return a reverse iterator.\n",
            " |  \n",
            " |  count(...)\n",
            " |      rangeobject.count(value) -> integer -- return number of occurrences of value\n",
            " |  \n",
            " |  index(...)\n",
            " |      rangeobject.index(value) -> integer -- return index of value.\n",
            " |      Raise ValueError if the value is not present.\n",
            " |  \n",
            " |  ----------------------------------------------------------------------\n",
            " |  Static methods defined here:\n",
            " |  \n",
            " |  __new__(*args, **kwargs) from builtins.type\n",
            " |      Create and return a new object.  See help(type) for accurate signature.\n",
            " |  \n",
            " |  ----------------------------------------------------------------------\n",
            " |  Data descriptors defined here:\n",
            " |  \n",
            " |  start\n",
            " |  \n",
            " |  step\n",
            " |  \n",
            " |  stop\n",
            "\n"
          ]
        }
      ],
      "source": [
        "help(range)"
      ]
    },
    {
      "cell_type": "code",
      "execution_count": null,
      "metadata": {
        "colab": {
          "base_uri": "https://localhost:8080/"
        },
        "id": "81NT4ZoYbxSx",
        "outputId": "97d0bb23-651e-4ee0-bdef-762e6d660ba0"
      },
      "outputs": [
        {
          "name": "stdout",
          "output_type": "stream",
          "text": [
            "0\n",
            "1\n",
            "2\n",
            "3\n",
            "4\n"
          ]
        }
      ],
      "source": [
        "a = 5\n",
        "for i in range(0, a): # will work from 0 to a - 1\n",
        "      print(i)   #for loop(move three times with tab to work or press enter after for loop)"
      ]
    },
    {
      "cell_type": "code",
      "execution_count": null,
      "metadata": {
        "colab": {
          "base_uri": "https://localhost:8080/"
        },
        "id": "7zEnSyp7EbpB",
        "outputId": "5f369dff-c4c2-4e18-e55b-920b7dd8acd6"
      },
      "outputs": [
        {
          "name": "stdout",
          "output_type": "stream",
          "text": [
            "0\n",
            "1\n",
            "2\n",
            "3\n",
            "4\n",
            "5\n",
            "6\n"
          ]
        }
      ],
      "source": [
        "a = 5 + 2\n",
        "for i in range(0, a):\n",
        "  print(i)"
      ]
    },
    {
      "cell_type": "code",
      "execution_count": null,
      "metadata": {
        "colab": {
          "base_uri": "https://localhost:8080/"
        },
        "id": "T6K7IgmuFExQ",
        "outputId": "2b91a05a-fb3e-46ad-aa30-e2fdcb10b737"
      },
      "outputs": [
        {
          "name": "stdout",
          "output_type": "stream",
          "text": [
            "0\n",
            "1\n",
            "2\n",
            "3\n",
            "4\n",
            "5\n",
            "6\n",
            "7\n",
            "8\n",
            "9\n"
          ]
        }
      ],
      "source": [
        "for i  in range(10):\n",
        "  print(i)"
      ]
    },
    {
      "cell_type": "code",
      "execution_count": null,
      "metadata": {
        "colab": {
          "base_uri": "https://localhost:8080/"
        },
        "id": "rVMhVPHwFq98",
        "outputId": "c0a8767c-e13d-42b3-cce0-37fdd810c1d1"
      },
      "outputs": [
        {
          "name": "stdout",
          "output_type": "stream",
          "text": [
            "I'm Emmanuel Matthew, and I like programming in python.\n",
            "\n",
            "I'm Marvin Read, and I like programming in python.\n",
            "\n",
            "I'm Richard Key, and I like programming in python.\n",
            "\n"
          ]
        }
      ],
      "source": [
        "full_names = [\"Emmanuel Matthew\", \"Marvin Read\", \"Richard Key\"]\n",
        "\n",
        "for fullname in full_names:\n",
        "  print(f\"I'm {fullname}, and I like programming in python.\\n\") # \\n means return to the next line."
      ]
    },
    {
      "cell_type": "code",
      "execution_count": null,
      "metadata": {
        "colab": {
          "base_uri": "https://localhost:8080/"
        },
        "id": "lO7hq_FxG6U8",
        "outputId": "372988a9-f2f7-43e4-9d6f-c71e6e6f10b4"
      },
      "outputs": [
        {
          "name": "stdout",
          "output_type": "stream",
          "text": [
            "I'm Shalom Peace, and I like programming in python.\n",
            "\n",
            "I'm Success James, and I like programming in python.\n",
            "\n",
            "I'm Faith Dan, and I like programming in python.\n",
            "\n"
          ]
        }
      ],
      "source": [
        "full_names = [\"Shalom Peace\", \"Success James\", \"Faith Dan\"]\n",
        "\n",
        "for fullname in full_names:\n",
        "  print(f\"I'm {fullname}, and I like programming in python.\\n\")"
      ]
    },
    {
      "cell_type": "code",
      "execution_count": null,
      "metadata": {
        "colab": {
          "base_uri": "https://localhost:8080/"
        },
        "id": "s4pIndRwMupt",
        "outputId": "b94a30b7-528e-4955-9821-ac1246952128"
      },
      "outputs": [
        {
          "name": "stdout",
          "output_type": "stream",
          "text": [
            "We like python\n",
            "We like python\n",
            "We like python\n",
            "We like python\n",
            "We like python\n"
          ]
        }
      ],
      "source": [
        "count = 0\n",
        "while (count < 5):\n",
        "  count = count + 1\n",
        "  print(\"We like python\")"
      ]
    },
    {
      "cell_type": "code",
      "execution_count": null,
      "metadata": {
        "colab": {
          "base_uri": "https://localhost:8080/"
        },
        "id": "X_oRWoarNZpa",
        "outputId": "b7f8652f-c2f0-46cd-ec22-f7745f3532fe"
      },
      "outputs": [
        {
          "name": "stdout",
          "output_type": "stream",
          "text": [
            "We like python programming\n",
            "We like python programming\n",
            "We like python programming\n",
            "We like python programming\n",
            "We like python programming\n"
          ]
        }
      ],
      "source": [
        "count = 0\n",
        "while (count < 5):\n",
        "  count = count + 1\n",
        "  print(\"We like python programming\")"
      ]
    },
    {
      "cell_type": "code",
      "execution_count": null,
      "metadata": {
        "colab": {
          "base_uri": "https://localhost:8080/"
        },
        "id": "NyX_I1jiN6oQ",
        "outputId": "15a9cea0-172d-4bde-f224-4fee832d8f56"
      },
      "outputs": [
        {
          "output_type": "stream",
          "name": "stdout",
          "text": [
            "1 2 2 3 3 3 4 4 4 4 5 5 5 5 5 6 6 6 6 6 6 \n"
          ]
        }
      ],
      "source": [
        "for i in range(1, 7):\n",
        "  for j in range(i):\n",
        "    print(i, end=' ')\n",
        "print()"
      ]
    },
    {
      "cell_type": "code",
      "source": [
        "age_str = input(\"Please enter your age\\n>>\")\n",
        "\n",
        "age = int(age_str)\n",
        "\n",
        "if (age>=0) and (age<16):\n",
        "   price = 10\n",
        "\n",
        "elif (age>=16) and (age<65):\n",
        "   price = 15\n",
        "\n",
        "elif (age>=65):\n",
        "   price = 25\n",
        "\n",
        "else:\n",
        "   price = 0\n",
        "\n",
        "if price == 0:\n",
        "     print(f\"Sorry. Something went wrong with the value you  typed\")\n",
        "\n",
        "else:\n",
        "    print(f\"The price for your ticket is {price}\")\n"
      ],
      "metadata": {
        "colab": {
          "base_uri": "https://localhost:8080/"
        },
        "id": "iquUcraYiydB",
        "outputId": "e9915841-5fb2-46be-d61e-ef02393ed53c"
      },
      "execution_count": null,
      "outputs": [
        {
          "output_type": "stream",
          "name": "stdout",
          "text": [
            "Please enter your age\n",
            ">>104\n",
            "The price for your ticket is 25\n"
          ]
        }
      ]
    },
    {
      "cell_type": "code",
      "source": [
        "age_str = input(\"Please enter your age\\n\")\n",
        "\n",
        "age = int(age_str)\n",
        "\n",
        "if (age>=0) and (age<16):\n",
        "   price = 10\n",
        "\n",
        "elif (age>=16) and (age<65):\n",
        "   price = 15\n",
        "\n",
        "elif (age>=65):\n",
        "   price = 25\n",
        "\n",
        "else:\n",
        "   price = 0\n",
        "\n",
        "if price == 0:\n",
        "   print(f\"Sorry. Something went wrong with the value you typed\")\n",
        "else:\n",
        "   print(f\"The price of your ticket is {price}\")"
      ],
      "metadata": {
        "colab": {
          "base_uri": "https://localhost:8080/"
        },
        "id": "0FM1sxFtnXVG",
        "outputId": "9864c8b4-834a-4ef6-e9d5-b60d6c9c530c"
      },
      "execution_count": null,
      "outputs": [
        {
          "output_type": "stream",
          "name": "stdout",
          "text": [
            "Please enter your age\n",
            "104\n",
            "The price of your ticket is 25\n"
          ]
        }
      ]
    },
    {
      "cell_type": "code",
      "source": [
        "age_str = input(\"Please enter your age\\n\")\n",
        "\n",
        "age = int(age_str)\n",
        "\n",
        "if (age>=0) and (age<16):\n",
        "    price = 10\n",
        "\n",
        "elif (age>=16) and (age<65):\n",
        "    price = 15\n",
        "\n",
        "elif (age>=65):\n",
        "    price = 25\n",
        "\n",
        "else:\n",
        "    price = 0\n",
        "\n",
        "if  price == 0:\n",
        "   print(f\"Sorry. Something went wrong with the value you typed\")\n",
        "\n",
        "else:\n",
        "   print(f\"The price for your ticket is {price}\")\n"
      ],
      "metadata": {
        "colab": {
          "base_uri": "https://localhost:8080/"
        },
        "id": "_gj0ItrCoXXg",
        "outputId": "93208070-c8d0-4449-a885-df13cf7a05a0"
      },
      "execution_count": null,
      "outputs": [
        {
          "output_type": "stream",
          "name": "stdout",
          "text": [
            "Please enter your age\n",
            "15\n",
            "The price for your ticket is 10\n"
          ]
        }
      ]
    },
    {
      "cell_type": "code",
      "source": [
        "a = 5\n",
        "for i in range(0, a):\n",
        "    print(i)"
      ],
      "metadata": {
        "colab": {
          "base_uri": "https://localhost:8080/"
        },
        "id": "H95W85FTpe3S",
        "outputId": "c9573385-9cc7-4499-a5af-af7c6b8402a3"
      },
      "execution_count": null,
      "outputs": [
        {
          "output_type": "stream",
          "name": "stdout",
          "text": [
            "0\n",
            "1\n",
            "2\n",
            "3\n",
            "4\n"
          ]
        }
      ]
    },
    {
      "cell_type": "code",
      "source": [
        "a = 5 + 2\n",
        "for i in range(0, a):\n",
        "  print(i)"
      ],
      "metadata": {
        "colab": {
          "base_uri": "https://localhost:8080/"
        },
        "id": "wQdXt5I6sL2Z",
        "outputId": "d96975ff-8ccd-4953-8f2c-8ab21a622e06"
      },
      "execution_count": null,
      "outputs": [
        {
          "output_type": "stream",
          "name": "stdout",
          "text": [
            "0\n",
            "1\n",
            "2\n",
            "3\n",
            "4\n",
            "5\n",
            "6\n"
          ]
        }
      ]
    },
    {
      "cell_type": "code",
      "source": [
        "full_names = [\"Care Pearl\", \"Samuel Right\", \"Steven Brave\"]\n",
        "\n",
        "for fullname in full_names:\n",
        "  print(f\"I'm {fullname}. I like python programming.\\n\")"
      ],
      "metadata": {
        "colab": {
          "base_uri": "https://localhost:8080/"
        },
        "id": "1NrfDB_usdBh",
        "outputId": "85dac9b3-3fcc-4eda-ea2b-7bcdeeb11092"
      },
      "execution_count": null,
      "outputs": [
        {
          "output_type": "stream",
          "name": "stdout",
          "text": [
            "I'm Care Pearl. I like python programming.\n",
            "\n",
            "I'm Samuel Right. I like python programming.\n",
            "\n",
            "I'm Steven Brave. I like python programming.\n",
            "\n"
          ]
        }
      ]
    },
    {
      "cell_type": "code",
      "source": [
        "count = 0\n",
        "while (count < 6):\n",
        "  count = count + 1\n",
        "  print(\"I like programming.\")"
      ],
      "metadata": {
        "colab": {
          "base_uri": "https://localhost:8080/"
        },
        "id": "FQ3jT3BYutte",
        "outputId": "ed774f52-2188-4ecf-a5b8-356f53d2fc6f"
      },
      "execution_count": 22,
      "outputs": [
        {
          "output_type": "stream",
          "name": "stdout",
          "text": [
            "I like programming.\n",
            "I like programming.\n",
            "I like programming.\n",
            "I like programming.\n",
            "I like programming.\n",
            "I like programming.\n"
          ]
        }
      ]
    },
    {
      "cell_type": "code",
      "source": [
        "for i in range(1, 7):\n",
        "  for j in range(i):\n",
        "    print(i, end='')\n",
        "print()"
      ],
      "metadata": {
        "colab": {
          "base_uri": "https://localhost:8080/"
        },
        "id": "6HJKc6sNu9v3",
        "outputId": "876aeb60-1010-4966-ccb2-fadd98a57061"
      },
      "execution_count": 23,
      "outputs": [
        {
          "output_type": "stream",
          "name": "stdout",
          "text": [
            "122333444455555666666\n"
          ]
        }
      ]
    },
    {
      "cell_type": "code",
      "source": [
        "# Define the function\n",
        "def cinema_ticket_pricing(age):\n",
        "  \"\"\"This function will compute the price of the ticket based on the age parameter\"\"\" # one line doc string\n",
        "\n",
        "  # COMPUTE PRICE\n",
        "  if (age>=0) and (age<16):\n",
        "    price = 10\n",
        "\n",
        "  elif (age>=16) and (age<65):\n",
        "    price = 15\n",
        "\n",
        "  elif (age>=65):\n",
        "    price = 25\n",
        "\n",
        "  else:\n",
        "    price = 0\n",
        "\n",
        "  if price == 0:\n",
        "    print(f\"Sorry. Something went wrong with the value you typed\")\n",
        "\n",
        "  else:\n",
        "    print(f\"The price for your ticket: {price}\")\n",
        "\n",
        "  return price"
      ],
      "metadata": {
        "id": "5cbjSx7BvqgQ"
      },
      "execution_count": 26,
      "outputs": []
    },
    {
      "cell_type": "code",
      "source": [
        "age_str = input(\"Please enter your age\\n>>\")\n",
        "\n",
        "age = int(age_str)"
      ],
      "metadata": {
        "colab": {
          "base_uri": "https://localhost:8080/"
        },
        "id": "u9nHFd-iySu8",
        "outputId": "6aab1f78-bf40-4b92-fa33-0fae0077fb55"
      },
      "execution_count": 24,
      "outputs": [
        {
          "name": "stdout",
          "output_type": "stream",
          "text": [
            "Please enter your age\n",
            ">>-1\n"
          ]
        }
      ]
    },
    {
      "cell_type": "code",
      "source": [
        "# call the function\n",
        "price = cinema_ticket_pricing(age=age)"
      ],
      "metadata": {
        "colab": {
          "base_uri": "https://localhost:8080/"
        },
        "id": "h4hGLNopygbu",
        "outputId": "e2197e7d-5655-42b9-e9ca-11572bb32b27"
      },
      "execution_count": 27,
      "outputs": [
        {
          "output_type": "stream",
          "name": "stdout",
          "text": [
            "Sorry. Something went wrong with the value you typed\n"
          ]
        }
      ]
    },
    {
      "cell_type": "code",
      "source": [
        "print(price)"
      ],
      "metadata": {
        "colab": {
          "base_uri": "https://localhost:8080/"
        },
        "id": "01WdVVQmzInW",
        "outputId": "d8c4afe4-d247-44ad-c73a-0bacbc12411f"
      },
      "execution_count": 28,
      "outputs": [
        {
          "output_type": "stream",
          "name": "stdout",
          "text": [
            "0\n"
          ]
        }
      ]
    },
    {
      "cell_type": "code",
      "source": [
        "# BAD function with arguments and default values\n",
        "def function_name(arg, arg_2, arg_3=\"Default Value\", arg_4):\n",
        "  \"\"\"Docstring\"\"\"\n",
        "  pass"
      ],
      "metadata": {
        "colab": {
          "base_uri": "https://localhost:8080/",
          "height": 141
        },
        "id": "LQuNoxh90Sby",
        "outputId": "d486fbcf-2063-4117-b335-ab0bbac41be1"
      },
      "execution_count": 29,
      "outputs": [
        {
          "output_type": "error",
          "ename": "SyntaxError",
          "evalue": "ignored",
          "traceback": [
            "\u001b[0;36m  File \u001b[0;32m\"<ipython-input-29-01a6d7497175>\"\u001b[0;36m, line \u001b[0;32m2\u001b[0m\n\u001b[0;31m    def function_name(arg, arg_2, arg_3=\"Default Value\", arg_4):\u001b[0m\n\u001b[0m                                                         ^\u001b[0m\n\u001b[0;31mSyntaxError\u001b[0m\u001b[0;31m:\u001b[0m non-default argument follows default argument\n"
          ]
        }
      ]
    },
    {
      "cell_type": "code",
      "source": [
        "#  function with arguments and default values\n",
        "def function_name(arg, arg_2, arg_3=\"Default Value\",):\n",
        "  \"\"\"Docstring\"\"\"\n",
        "  pass"
      ],
      "metadata": {
        "id": "0KX9av9a0qGa"
      },
      "execution_count": 30,
      "outputs": []
    }
  ],
  "metadata": {
    "colab": {
      "provenance": [],
      "mount_file_id": "1NP_xwNGm87ii6aH_oe2akHco2qO2vjee",
      "authorship_tag": "ABX9TyOkh7Eppal/84AP4lsMVDyi",
      "include_colab_link": true
    },
    "kernelspec": {
      "display_name": "Python 3",
      "name": "python3"
    },
    "language_info": {
      "name": "python"
    }
  },
  "nbformat": 4,
  "nbformat_minor": 0
}